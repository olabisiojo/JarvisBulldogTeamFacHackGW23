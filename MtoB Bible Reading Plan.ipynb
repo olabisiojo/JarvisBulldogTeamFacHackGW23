{
  "nbformat": 4,
  "nbformat_minor": 0,
  "metadata": {
    "colab": {
      "provenance": [],
      "authorship_tag": "ABX9TyNANz6+TIzCIRr2IuiJ2AqL",
      "include_colab_link": true
    },
    "kernelspec": {
      "name": "python3",
      "display_name": "Python 3"
    },
    "language_info": {
      "name": "python"
    }
  },
  "cells": [
    {
      "cell_type": "markdown",
      "metadata": {
        "id": "view-in-github",
        "colab_type": "text"
      },
      "source": [
        "<a href=\"https://colab.research.google.com/github/olabisiojo/JarvisBulldogTeamFacHackGW23/blob/main/MtoB%20Bible%20Reading%20Plan.ipynb\" target=\"_parent\"><img src=\"https://colab.research.google.com/assets/colab-badge.svg\" alt=\"Open In Colab\"/></a>"
      ]
    },
    {
      "cell_type": "code",
      "source": [
        "import csv\n",
        "from datetime import datetime, timedelta\n",
        "\n",
        "def generate_bible_plan():\n",
        "    new_testament = {\n",
        "        'Matthew': 28, 'Mark': 16, 'Luke': 24, 'John': 21,\n",
        "        'Acts': 28, 'Romans': 16, '1 Corinthians': 16, '2 Corinthians': 13,\n",
        "        'Galatians': 6, 'Ephesians': 6, 'Philippians': 4, 'Colossians': 4,\n",
        "        '1 Thessalonians': 5, '2 Thessalonians': 3, '1 Timothy': 6, '2 Timothy': 4,\n",
        "        'Titus': 3, 'Philemon': 1, 'Hebrews': 13, 'James': 5,\n",
        "        '1 Peter': 5, '2 Peter': 3, '1 John': 5, '2 John': 1,\n",
        "        '3 John': 1, 'Jude': 1, 'Revelation': 22\n",
        "    }\n",
        "\n",
        "    start_date = datetime(2025, 1, 1)\n",
        "    readings = []\n",
        "\n",
        "    for book, chapters in new_testament.items():\n",
        "        for chapter in range(1, chapters + 1):\n",
        "            readings.append((start_date.strftime('%Y-%m-%d'), book, chapter))\n",
        "            start_date += timedelta(days=1)\n",
        "\n",
        "    with open('Bplan2025.csv', 'w', newline='') as file:\n",
        "        writer = csv.writer(file)\n",
        "        writer.writerow(['Date', 'Book', 'Chapter'])\n",
        "        writer.writerows(readings)\n",
        "\n",
        "    print(\"CSV file 'Bplan2025.csv' has been generated.\")\n",
        "\n",
        "generate_bible_plan()\n",
        "\n",
        "# For Google Colab, add these lines to download the file:\n",
        "from google.colab import files\n",
        "files.download('Bplan2025.csv')\n"
      ],
      "metadata": {
        "colab": {
          "base_uri": "https://localhost:8080/",
          "height": 34
        },
        "id": "T5YIlg8OpcQS",
        "outputId": "9e00d84e-fdea-4e2f-e810-8ed14c055bb1"
      },
      "execution_count": 4,
      "outputs": [
        {
          "output_type": "stream",
          "name": "stdout",
          "text": [
            "CSV file 'Bplan2025.csv' has been generated.\n"
          ]
        },
        {
          "output_type": "display_data",
          "data": {
            "text/plain": [
              "<IPython.core.display.Javascript object>"
            ],
            "application/javascript": [
              "\n",
              "    async function download(id, filename, size) {\n",
              "      if (!google.colab.kernel.accessAllowed) {\n",
              "        return;\n",
              "      }\n",
              "      const div = document.createElement('div');\n",
              "      const label = document.createElement('label');\n",
              "      label.textContent = `Downloading \"${filename}\": `;\n",
              "      div.appendChild(label);\n",
              "      const progress = document.createElement('progress');\n",
              "      progress.max = size;\n",
              "      div.appendChild(progress);\n",
              "      document.body.appendChild(div);\n",
              "\n",
              "      const buffers = [];\n",
              "      let downloaded = 0;\n",
              "\n",
              "      const channel = await google.colab.kernel.comms.open(id);\n",
              "      // Send a message to notify the kernel that we're ready.\n",
              "      channel.send({})\n",
              "\n",
              "      for await (const message of channel.messages) {\n",
              "        // Send a message to notify the kernel that we're ready.\n",
              "        channel.send({})\n",
              "        if (message.buffers) {\n",
              "          for (const buffer of message.buffers) {\n",
              "            buffers.push(buffer);\n",
              "            downloaded += buffer.byteLength;\n",
              "            progress.value = downloaded;\n",
              "          }\n",
              "        }\n",
              "      }\n",
              "      const blob = new Blob(buffers, {type: 'application/binary'});\n",
              "      const a = document.createElement('a');\n",
              "      a.href = window.URL.createObjectURL(blob);\n",
              "      a.download = filename;\n",
              "      div.appendChild(a);\n",
              "      a.click();\n",
              "      div.remove();\n",
              "    }\n",
              "  "
            ]
          },
          "metadata": {}
        },
        {
          "output_type": "display_data",
          "data": {
            "text/plain": [
              "<IPython.core.display.Javascript object>"
            ],
            "application/javascript": [
              "download(\"download_fe0f3582-d8b2-42c7-b7cf-38cd1288188d\", \"Bplan2025.csv\", 5914)"
            ]
          },
          "metadata": {}
        }
      ]
    }
  ]
}